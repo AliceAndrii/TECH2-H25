{
 "cells": [
  {
   "cell_type": "markdown",
   "metadata": {},
   "source": [
    "# Exercise 1: Summing lists and arrays\n",
    "\n",
    "In this exercise, we investigate another difference between built-in lists and NumPy arrays: performance.\n",
    "We do this by comparing the execution time of different implementations of the `sum()` function.\n",
    "\n",
    "1. Create a list `lst` and a NumPy array `arr`, each of them containing the sequence \n",
    "   of ten values `0, 1, 2, ..., 9`.\n",
    "\n",
    "   *Hint*: You can use the list constructor [`list()`](https://www.w3schools.com/python/ref_func_list.asp)\n",
    "   and combine it with the [`range()`](https://docs.python.org/3/library/functions.html#func-range)\n",
    "   function which returns an objecting representing a range of integers.\n",
    "\n",
    "   *Hint:* You should create the NumPy array using \n",
    "   [`np.arange()`](https://numpy.org/doc/stable/reference/generated/numpy.arange.html).\n",
    "\n",
    "2. We want to compute the sum of integers contained in `lst` and `arr`. Use \n",
    "   the built-in function [`sum()`](https://www.w3schools.com/python/ref_func_sum.asp)\n",
    "   to sum elements of a list.\n",
    "   For the NumPy array, use the NumPy function \n",
    "   [`np.sum()`](https://numpy.org/doc/stable/reference/generated/numpy.sum.html).\n",
    "\n",
    "3. You are interested in benchmarking which summing function is faster.\n",
    "    Repeat the steps from above, but use the cell magic \n",
    "    [`%timeit`](https://ipython.readthedocs.io/en/stable/interactive/magics.html#magic-timeit)\n",
    "    to time the execution of a statement as follows:\n",
    "\n",
    "    ```python\n",
    "    %timeit statement\n",
    "    ```\n",
    "\n",
    "4.  Recreate the list and array to contain 100 integers starting from 0,\n",
    "    and rerun the benchmark.\n",
    "\n",
    "5.  Recreate the list and array to contain 10,000 integers starting from 0,\n",
    "    and rerun the benchmark.\n",
    "\n",
    "\n",
    "What do you conclude about the relative performance of built-in lists \n",
    "vs. NumPy arrays?"
   ]
  },
  {
   "cell_type": "code",
   "execution_count": 12,
   "metadata": {},
   "outputs": [],
   "source": [
    "import numpy as np"
   ]
  },
  {
   "cell_type": "code",
   "execution_count": null,
   "metadata": {},
   "outputs": [
    {
     "name": "stdout",
     "output_type": "stream",
     "text": [
      "121 ns ± 8.96 ns per loop (mean ± std. dev. of 7 runs, 10,000,000 loops each)\n"
     ]
    }
   ],
   "source": [
    "lst = list(range(10))\n",
    "%timeit sum_lst = sum(lst)"
   ]
  },
  {
   "cell_type": "code",
   "execution_count": 16,
   "metadata": {},
   "outputs": [
    {
     "name": "stdout",
     "output_type": "stream",
     "text": [
      "3.75 μs ± 472 ns per loop (mean ± std. dev. of 7 runs, 100,000 loops each)\n"
     ]
    }
   ],
   "source": [
    "arr = np.arange(0, 10, 1)\n",
    "%timeit sum_arr = np.sum(arr)\n"
   ]
  },
  {
   "cell_type": "code",
   "execution_count": 25,
   "metadata": {},
   "outputs": [
    {
     "name": "stdout",
     "output_type": "stream",
     "text": [
      "565 ns ± 46.4 ns per loop (mean ± std. dev. of 7 runs, 1,000,000 loops each)\n"
     ]
    }
   ],
   "source": [
    "lst1 = list(range(100))\n",
    "%timeit sum_lst = sum(lst1)"
   ]
  },
  {
   "cell_type": "code",
   "execution_count": 24,
   "metadata": {},
   "outputs": [
    {
     "name": "stdout",
     "output_type": "stream",
     "text": [
      "4.47 μs ± 623 ns per loop (mean ± std. dev. of 7 runs, 100,000 loops each)\n"
     ]
    }
   ],
   "source": [
    "arr1 = np.arange(0, 100, 1)\n",
    "%timeit sum_arr = np.sum(arr1)"
   ]
  },
  {
   "cell_type": "code",
   "execution_count": 26,
   "metadata": {},
   "outputs": [
    {
     "name": "stdout",
     "output_type": "stream",
     "text": [
      "97.2 μs ± 40.8 μs per loop (mean ± std. dev. of 7 runs, 1,000 loops each)\n"
     ]
    }
   ],
   "source": [
    "lst1 = list(range(10000))\n",
    "%timeit sum_lst = sum(lst1)"
   ]
  },
  {
   "cell_type": "code",
   "execution_count": 27,
   "metadata": {},
   "outputs": [
    {
     "name": "stdout",
     "output_type": "stream",
     "text": [
      "7.99 μs ± 1.21 μs per loop (mean ± std. dev. of 7 runs, 100,000 loops each)\n"
     ]
    }
   ],
   "source": [
    "arr1 = np.arange(0, 10000, 1)\n",
    "%timeit sum_arr = np.sum(arr1)"
   ]
  },
  {
   "cell_type": "markdown",
   "metadata": {},
   "source": [
    "***\n",
    "# Exercise 2: Maximizing quadratic utility"
   ]
  },
  {
   "cell_type": "markdown",
   "metadata": {},
   "source": [
    "Assume that an individual derives utility from consuming $c$ items according to the following\n",
    "utility function $u(\\bullet)$:\n",
    "$$\n",
    "u(c) = - A (c - B)^2 + C\n",
    "$$\n",
    "\n",
    "where $A > 0$, $B > 0$ and $C$ are parameters, and $c$ is the consumption level.\n",
    "\n",
    "In this exercise, you are asked to locate the consumption level which delivers the maximum utility.\n",
    "\n",
    "1.  Define a function called `util()` which takes as arguments the consumption level `c` and \n",
    "    three additional arguments `A`, `B`, and `C` which are the parameters of $u(\\bullet)$ define above. The function should return the utility associated \n",
    "    with the given consumption level `c`.\n",
    "\n",
    "2.  Write a function `find_max_cons()` which takes as arguments a sequence of candidate consumption levels and the three parameters\n",
    "    `A`, `B`, and `C`, and returns the maximum utility as well as the consumption level at which utility is maximized.\n",
    "    The function definition should look like this:\n",
    "    ```python\n",
    "    def find_max_cons(candidates, A, B, C):\n",
    "        \"\"\"\n",
    "        Find the consumption level that maximizes utility from a \n",
    "        list of candidates.\n",
    "\n",
    "        Parameters\n",
    "        ----------\n",
    "        candidates : list or array-like\n",
    "            List of candidate consumption levels to evaluate.\n",
    "        A, B, C : float\n",
    "            Parameters of the utility function.\n",
    "\n",
    "        Returns\n",
    "        -------\n",
    "        u_max\n",
    "            Maximized utility\n",
    "        cons_max\n",
    "            Consumption at which utility is maximized\n",
    "        \"\"\"\n",
    "    ```\n",
    "\n",
    "    Your algorithm should perform the following steps:\n",
    "\n",
    "    1.  Define the variable `u_max = -np.inf` (negative infinity) as the initial value.\n",
    "    2.  Loop through all candidate consumption levels, and compute the associated utility. \n",
    "        If this utility is larger than the previous maximum value `u_max`, update `u_max` and store the associated consumption level `cons_max`.\n",
    "    3. Return `u_max` and `cons_max` after the loop terminates.\n",
    "\n",
    "1. Find the maximum:\n",
    "    1.  Create an array `cons` of 51 candidate consumption levels which are uniformly spaced on \n",
    "        the  interval $[0, 4]$.\n",
    "\n",
    "        *Hint:* Use [`np.linspace()`](https://numpy.org/doc/stable/reference/generated/numpy.linspace.html)\n",
    "        for this task.\n",
    "\n",
    "    2.  Use the parameters $A = 1$, $B=2$, and $C=10$.\n",
    "    3.  Use the function `find_max_cons()` to compute the maximum utility and the associated optimal \n",
    "        consumption level, and print the results.\n",
    "\n",
    "2. Repeat the exercise, but instead use vectorized operations from NumPy:\n",
    "    1. Compute and store the utility levels for *all* elements in `cons` at once (simply apply the formula to the whole array).\n",
    "    2. Locate the index of the maximum utility level using \n",
    "       [`np.argmax()`](https://numpy.org/doc/stable/reference/generated/numpy.argmax.html).\n",
    "    3. Use the index returned by `np.argmax()` to retrieve the maximum utility and the \n",
    "        corresponding consumption level, and print the results.\n",
    "\n"
   ]
  },
  {
   "cell_type": "code",
   "execution_count": 28,
   "metadata": {},
   "outputs": [],
   "source": [
    "def util(c, A=1, B=2, C=10):\n",
    "    u = -A *(c-B)**2 + C\n",
    "    return u"
   ]
  },
  {
   "cell_type": "code",
   "execution_count": null,
   "metadata": {},
   "outputs": [
    {
     "data": {
      "text/plain": [
       "array([ 6.    ,  6.3136,  6.6144,  6.9024,  7.1776,  7.44  ,  7.6896,\n",
       "        7.9264,  8.1504,  8.3616,  8.56  ,  8.7456,  8.9184,  9.0784,\n",
       "        9.2256,  9.36  ,  9.4816,  9.5904,  9.6864,  9.7696,  9.84  ,\n",
       "        9.8976,  9.9424,  9.9744,  9.9936, 10.    ,  9.9936,  9.9744,\n",
       "        9.9424,  9.8976,  9.84  ,  9.7696,  9.6864,  9.5904,  9.4816,\n",
       "        9.36  ,  9.2256,  9.0784,  8.9184,  8.7456,  8.56  ,  8.3616,\n",
       "        8.1504,  7.9264,  7.6896,  7.44  ,  7.1776,  6.9024,  6.6144,\n",
       "        6.3136,  6.    ])"
      ]
     },
     "execution_count": 30,
     "metadata": {},
     "output_type": "execute_result"
    }
   ],
   "source": [
    "import numpy as np\n",
    "\n",
    "consumption = np.linspace(1.0, 6.0, 51)\n",
    "\n",
    "util(consumption)"
   ]
  },
  {
   "cell_type": "code",
   "execution_count": null,
   "metadata": {},
   "outputs": [],
   "source": [
    "u_max = -np.inf"
   ]
  }
 ],
 "metadata": {
  "kernelspec": {
   "display_name": "TECH2",
   "language": "python",
   "name": "python3"
  },
  "language_info": {
   "codemirror_mode": {
    "name": "ipython",
    "version": 3
   },
   "file_extension": ".py",
   "mimetype": "text/x-python",
   "name": "python",
   "nbconvert_exporter": "python",
   "pygments_lexer": "ipython3",
   "version": "3.13.5"
  }
 },
 "nbformat": 4,
 "nbformat_minor": 2
}
